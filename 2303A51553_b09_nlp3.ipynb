{
  "nbformat": 4,
  "nbformat_minor": 0,
  "metadata": {
    "colab": {
      "provenance": [],
      "authorship_tag": "ABX9TyPCNM55EA8XNuW0JcFSa8uU",
      "include_colab_link": true
    },
    "kernelspec": {
      "name": "python3",
      "display_name": "Python 3"
    },
    "language_info": {
      "name": "python"
    }
  },
  "cells": [
    {
      "cell_type": "markdown",
      "metadata": {
        "id": "view-in-github",
        "colab_type": "text"
      },
      "source": [
        "<a href=\"https://colab.research.google.com/github/2303A51553/Natural-language-process/blob/main/2303A51553_b09_nlp3.ipynb\" target=\"_parent\"><img src=\"https://colab.research.google.com/assets/colab-badge.svg\" alt=\"Open In Colab\"/></a>"
      ]
    },
    {
      "cell_type": "code",
      "execution_count": 7,
      "metadata": {
        "id": "Bn_v1HyIvYHG"
      },
      "outputs": [],
      "source": [
        "import pandas as pd"
      ]
    },
    {
      "cell_type": "code",
      "source": [
        "df=pd.read_csv('/content/bbc_news.csv')"
      ],
      "metadata": {
        "id": "DPS34QZjv_wY"
      },
      "execution_count": 9,
      "outputs": []
    },
    {
      "cell_type": "code",
      "source": [
        "import nltk\n",
        "nltk.download('punkt')\n",
        "nltk.download('punkt_tab')\n",
        "nltk.download('stopwords')"
      ],
      "metadata": {
        "colab": {
          "base_uri": "https://localhost:8080/"
        },
        "id": "yvB4CWWawrYe",
        "outputId": "74fc7ec3-4bac-488f-a07c-d0185f2b951e"
      },
      "execution_count": 10,
      "outputs": [
        {
          "output_type": "stream",
          "name": "stderr",
          "text": [
            "[nltk_data] Downloading package punkt to /root/nltk_data...\n",
            "[nltk_data]   Unzipping tokenizers/punkt.zip.\n",
            "[nltk_data] Downloading package punkt_tab to /root/nltk_data...\n",
            "[nltk_data]   Unzipping tokenizers/punkt_tab.zip.\n",
            "[nltk_data] Downloading package stopwords to /root/nltk_data...\n",
            "[nltk_data]   Unzipping corpora/stopwords.zip.\n"
          ]
        },
        {
          "output_type": "execute_result",
          "data": {
            "text/plain": [
              "True"
            ]
          },
          "metadata": {},
          "execution_count": 10
        }
      ]
    },
    {
      "cell_type": "code",
      "source": [
        "df.head()"
      ],
      "metadata": {
        "colab": {
          "base_uri": "https://localhost:8080/",
          "height": 379
        },
        "id": "YVVi5P_1yBHm",
        "outputId": "e5a7f358-71cf-4132-819c-96e79c81e359"
      },
      "execution_count": 11,
      "outputs": [
        {
          "output_type": "execute_result",
          "data": {
            "text/plain": [
              "                                               title  \\\n",
              "0  Ukraine: Angry Zelensky vows to punish Russian...   \n",
              "1  War in Ukraine: Taking cover in a town under a...   \n",
              "2         Ukraine war 'catastrophic for global food'   \n",
              "3  Manchester Arena bombing: Saffie Roussos's par...   \n",
              "4  Ukraine conflict: Oil price soars to highest l...   \n",
              "\n",
              "                         pubDate  \\\n",
              "0  Mon, 07 Mar 2022 08:01:56 GMT   \n",
              "1  Sun, 06 Mar 2022 22:49:58 GMT   \n",
              "2  Mon, 07 Mar 2022 00:14:42 GMT   \n",
              "3  Mon, 07 Mar 2022 00:05:40 GMT   \n",
              "4  Mon, 07 Mar 2022 08:15:53 GMT   \n",
              "\n",
              "                                               guid  \\\n",
              "0  https://www.bbc.co.uk/news/world-europe-60638042   \n",
              "1  https://www.bbc.co.uk/news/world-europe-60641873   \n",
              "2      https://www.bbc.co.uk/news/business-60623941   \n",
              "3            https://www.bbc.co.uk/news/uk-60579079   \n",
              "4      https://www.bbc.co.uk/news/business-60642786   \n",
              "\n",
              "                                                link  \\\n",
              "0  https://www.bbc.co.uk/news/world-europe-606380...   \n",
              "1  https://www.bbc.co.uk/news/world-europe-606418...   \n",
              "2  https://www.bbc.co.uk/news/business-60623941?a...   \n",
              "3  https://www.bbc.co.uk/news/uk-60579079?at_medi...   \n",
              "4  https://www.bbc.co.uk/news/business-60642786?a...   \n",
              "\n",
              "                                         description  \n",
              "0  The Ukrainian president says the country will ...  \n",
              "1  Jeremy Bowen was on the frontline in Irpin, as...  \n",
              "2  One of the world's biggest fertiliser firms sa...  \n",
              "3  The parents of the Manchester Arena bombing's ...  \n",
              "4  Consumers are feeling the impact of higher ene...  "
            ],
            "text/html": [
              "\n",
              "  <div id=\"df-3b7f8943-d37d-4d37-ab65-010fd950321d\" class=\"colab-df-container\">\n",
              "    <div>\n",
              "<style scoped>\n",
              "    .dataframe tbody tr th:only-of-type {\n",
              "        vertical-align: middle;\n",
              "    }\n",
              "\n",
              "    .dataframe tbody tr th {\n",
              "        vertical-align: top;\n",
              "    }\n",
              "\n",
              "    .dataframe thead th {\n",
              "        text-align: right;\n",
              "    }\n",
              "</style>\n",
              "<table border=\"1\" class=\"dataframe\">\n",
              "  <thead>\n",
              "    <tr style=\"text-align: right;\">\n",
              "      <th></th>\n",
              "      <th>title</th>\n",
              "      <th>pubDate</th>\n",
              "      <th>guid</th>\n",
              "      <th>link</th>\n",
              "      <th>description</th>\n",
              "    </tr>\n",
              "  </thead>\n",
              "  <tbody>\n",
              "    <tr>\n",
              "      <th>0</th>\n",
              "      <td>Ukraine: Angry Zelensky vows to punish Russian...</td>\n",
              "      <td>Mon, 07 Mar 2022 08:01:56 GMT</td>\n",
              "      <td>https://www.bbc.co.uk/news/world-europe-60638042</td>\n",
              "      <td>https://www.bbc.co.uk/news/world-europe-606380...</td>\n",
              "      <td>The Ukrainian president says the country will ...</td>\n",
              "    </tr>\n",
              "    <tr>\n",
              "      <th>1</th>\n",
              "      <td>War in Ukraine: Taking cover in a town under a...</td>\n",
              "      <td>Sun, 06 Mar 2022 22:49:58 GMT</td>\n",
              "      <td>https://www.bbc.co.uk/news/world-europe-60641873</td>\n",
              "      <td>https://www.bbc.co.uk/news/world-europe-606418...</td>\n",
              "      <td>Jeremy Bowen was on the frontline in Irpin, as...</td>\n",
              "    </tr>\n",
              "    <tr>\n",
              "      <th>2</th>\n",
              "      <td>Ukraine war 'catastrophic for global food'</td>\n",
              "      <td>Mon, 07 Mar 2022 00:14:42 GMT</td>\n",
              "      <td>https://www.bbc.co.uk/news/business-60623941</td>\n",
              "      <td>https://www.bbc.co.uk/news/business-60623941?a...</td>\n",
              "      <td>One of the world's biggest fertiliser firms sa...</td>\n",
              "    </tr>\n",
              "    <tr>\n",
              "      <th>3</th>\n",
              "      <td>Manchester Arena bombing: Saffie Roussos's par...</td>\n",
              "      <td>Mon, 07 Mar 2022 00:05:40 GMT</td>\n",
              "      <td>https://www.bbc.co.uk/news/uk-60579079</td>\n",
              "      <td>https://www.bbc.co.uk/news/uk-60579079?at_medi...</td>\n",
              "      <td>The parents of the Manchester Arena bombing's ...</td>\n",
              "    </tr>\n",
              "    <tr>\n",
              "      <th>4</th>\n",
              "      <td>Ukraine conflict: Oil price soars to highest l...</td>\n",
              "      <td>Mon, 07 Mar 2022 08:15:53 GMT</td>\n",
              "      <td>https://www.bbc.co.uk/news/business-60642786</td>\n",
              "      <td>https://www.bbc.co.uk/news/business-60642786?a...</td>\n",
              "      <td>Consumers are feeling the impact of higher ene...</td>\n",
              "    </tr>\n",
              "  </tbody>\n",
              "</table>\n",
              "</div>\n",
              "    <div class=\"colab-df-buttons\">\n",
              "\n",
              "  <div class=\"colab-df-container\">\n",
              "    <button class=\"colab-df-convert\" onclick=\"convertToInteractive('df-3b7f8943-d37d-4d37-ab65-010fd950321d')\"\n",
              "            title=\"Convert this dataframe to an interactive table.\"\n",
              "            style=\"display:none;\">\n",
              "\n",
              "  <svg xmlns=\"http://www.w3.org/2000/svg\" height=\"24px\" viewBox=\"0 -960 960 960\">\n",
              "    <path d=\"M120-120v-720h720v720H120Zm60-500h600v-160H180v160Zm220 220h160v-160H400v160Zm0 220h160v-160H400v160ZM180-400h160v-160H180v160Zm440 0h160v-160H620v160ZM180-180h160v-160H180v160Zm440 0h160v-160H620v160Z\"/>\n",
              "  </svg>\n",
              "    </button>\n",
              "\n",
              "  <style>\n",
              "    .colab-df-container {\n",
              "      display:flex;\n",
              "      gap: 12px;\n",
              "    }\n",
              "\n",
              "    .colab-df-convert {\n",
              "      background-color: #E8F0FE;\n",
              "      border: none;\n",
              "      border-radius: 50%;\n",
              "      cursor: pointer;\n",
              "      display: none;\n",
              "      fill: #1967D2;\n",
              "      height: 32px;\n",
              "      padding: 0 0 0 0;\n",
              "      width: 32px;\n",
              "    }\n",
              "\n",
              "    .colab-df-convert:hover {\n",
              "      background-color: #E2EBFA;\n",
              "      box-shadow: 0px 1px 2px rgba(60, 64, 67, 0.3), 0px 1px 3px 1px rgba(60, 64, 67, 0.15);\n",
              "      fill: #174EA6;\n",
              "    }\n",
              "\n",
              "    .colab-df-buttons div {\n",
              "      margin-bottom: 4px;\n",
              "    }\n",
              "\n",
              "    [theme=dark] .colab-df-convert {\n",
              "      background-color: #3B4455;\n",
              "      fill: #D2E3FC;\n",
              "    }\n",
              "\n",
              "    [theme=dark] .colab-df-convert:hover {\n",
              "      background-color: #434B5C;\n",
              "      box-shadow: 0px 1px 3px 1px rgba(0, 0, 0, 0.15);\n",
              "      filter: drop-shadow(0px 1px 2px rgba(0, 0, 0, 0.3));\n",
              "      fill: #FFFFFF;\n",
              "    }\n",
              "  </style>\n",
              "\n",
              "    <script>\n",
              "      const buttonEl =\n",
              "        document.querySelector('#df-3b7f8943-d37d-4d37-ab65-010fd950321d button.colab-df-convert');\n",
              "      buttonEl.style.display =\n",
              "        google.colab.kernel.accessAllowed ? 'block' : 'none';\n",
              "\n",
              "      async function convertToInteractive(key) {\n",
              "        const element = document.querySelector('#df-3b7f8943-d37d-4d37-ab65-010fd950321d');\n",
              "        const dataTable =\n",
              "          await google.colab.kernel.invokeFunction('convertToInteractive',\n",
              "                                                    [key], {});\n",
              "        if (!dataTable) return;\n",
              "\n",
              "        const docLinkHtml = 'Like what you see? Visit the ' +\n",
              "          '<a target=\"_blank\" href=https://colab.research.google.com/notebooks/data_table.ipynb>data table notebook</a>'\n",
              "          + ' to learn more about interactive tables.';\n",
              "        element.innerHTML = '';\n",
              "        dataTable['output_type'] = 'display_data';\n",
              "        await google.colab.output.renderOutput(dataTable, element);\n",
              "        const docLink = document.createElement('div');\n",
              "        docLink.innerHTML = docLinkHtml;\n",
              "        element.appendChild(docLink);\n",
              "      }\n",
              "    </script>\n",
              "  </div>\n",
              "\n",
              "\n",
              "    <div id=\"df-16791b85-1aae-41f2-a228-e535ff0675ac\">\n",
              "      <button class=\"colab-df-quickchart\" onclick=\"quickchart('df-16791b85-1aae-41f2-a228-e535ff0675ac')\"\n",
              "                title=\"Suggest charts\"\n",
              "                style=\"display:none;\">\n",
              "\n",
              "<svg xmlns=\"http://www.w3.org/2000/svg\" height=\"24px\"viewBox=\"0 0 24 24\"\n",
              "     width=\"24px\">\n",
              "    <g>\n",
              "        <path d=\"M19 3H5c-1.1 0-2 .9-2 2v14c0 1.1.9 2 2 2h14c1.1 0 2-.9 2-2V5c0-1.1-.9-2-2-2zM9 17H7v-7h2v7zm4 0h-2V7h2v10zm4 0h-2v-4h2v4z\"/>\n",
              "    </g>\n",
              "</svg>\n",
              "      </button>\n",
              "\n",
              "<style>\n",
              "  .colab-df-quickchart {\n",
              "      --bg-color: #E8F0FE;\n",
              "      --fill-color: #1967D2;\n",
              "      --hover-bg-color: #E2EBFA;\n",
              "      --hover-fill-color: #174EA6;\n",
              "      --disabled-fill-color: #AAA;\n",
              "      --disabled-bg-color: #DDD;\n",
              "  }\n",
              "\n",
              "  [theme=dark] .colab-df-quickchart {\n",
              "      --bg-color: #3B4455;\n",
              "      --fill-color: #D2E3FC;\n",
              "      --hover-bg-color: #434B5C;\n",
              "      --hover-fill-color: #FFFFFF;\n",
              "      --disabled-bg-color: #3B4455;\n",
              "      --disabled-fill-color: #666;\n",
              "  }\n",
              "\n",
              "  .colab-df-quickchart {\n",
              "    background-color: var(--bg-color);\n",
              "    border: none;\n",
              "    border-radius: 50%;\n",
              "    cursor: pointer;\n",
              "    display: none;\n",
              "    fill: var(--fill-color);\n",
              "    height: 32px;\n",
              "    padding: 0;\n",
              "    width: 32px;\n",
              "  }\n",
              "\n",
              "  .colab-df-quickchart:hover {\n",
              "    background-color: var(--hover-bg-color);\n",
              "    box-shadow: 0 1px 2px rgba(60, 64, 67, 0.3), 0 1px 3px 1px rgba(60, 64, 67, 0.15);\n",
              "    fill: var(--button-hover-fill-color);\n",
              "  }\n",
              "\n",
              "  .colab-df-quickchart-complete:disabled,\n",
              "  .colab-df-quickchart-complete:disabled:hover {\n",
              "    background-color: var(--disabled-bg-color);\n",
              "    fill: var(--disabled-fill-color);\n",
              "    box-shadow: none;\n",
              "  }\n",
              "\n",
              "  .colab-df-spinner {\n",
              "    border: 2px solid var(--fill-color);\n",
              "    border-color: transparent;\n",
              "    border-bottom-color: var(--fill-color);\n",
              "    animation:\n",
              "      spin 1s steps(1) infinite;\n",
              "  }\n",
              "\n",
              "  @keyframes spin {\n",
              "    0% {\n",
              "      border-color: transparent;\n",
              "      border-bottom-color: var(--fill-color);\n",
              "      border-left-color: var(--fill-color);\n",
              "    }\n",
              "    20% {\n",
              "      border-color: transparent;\n",
              "      border-left-color: var(--fill-color);\n",
              "      border-top-color: var(--fill-color);\n",
              "    }\n",
              "    30% {\n",
              "      border-color: transparent;\n",
              "      border-left-color: var(--fill-color);\n",
              "      border-top-color: var(--fill-color);\n",
              "      border-right-color: var(--fill-color);\n",
              "    }\n",
              "    40% {\n",
              "      border-color: transparent;\n",
              "      border-right-color: var(--fill-color);\n",
              "      border-top-color: var(--fill-color);\n",
              "    }\n",
              "    60% {\n",
              "      border-color: transparent;\n",
              "      border-right-color: var(--fill-color);\n",
              "    }\n",
              "    80% {\n",
              "      border-color: transparent;\n",
              "      border-right-color: var(--fill-color);\n",
              "      border-bottom-color: var(--fill-color);\n",
              "    }\n",
              "    90% {\n",
              "      border-color: transparent;\n",
              "      border-bottom-color: var(--fill-color);\n",
              "    }\n",
              "  }\n",
              "</style>\n",
              "\n",
              "      <script>\n",
              "        async function quickchart(key) {\n",
              "          const quickchartButtonEl =\n",
              "            document.querySelector('#' + key + ' button');\n",
              "          quickchartButtonEl.disabled = true;  // To prevent multiple clicks.\n",
              "          quickchartButtonEl.classList.add('colab-df-spinner');\n",
              "          try {\n",
              "            const charts = await google.colab.kernel.invokeFunction(\n",
              "                'suggestCharts', [key], {});\n",
              "          } catch (error) {\n",
              "            console.error('Error during call to suggestCharts:', error);\n",
              "          }\n",
              "          quickchartButtonEl.classList.remove('colab-df-spinner');\n",
              "          quickchartButtonEl.classList.add('colab-df-quickchart-complete');\n",
              "        }\n",
              "        (() => {\n",
              "          let quickchartButtonEl =\n",
              "            document.querySelector('#df-16791b85-1aae-41f2-a228-e535ff0675ac button');\n",
              "          quickchartButtonEl.style.display =\n",
              "            google.colab.kernel.accessAllowed ? 'block' : 'none';\n",
              "        })();\n",
              "      </script>\n",
              "    </div>\n",
              "\n",
              "    </div>\n",
              "  </div>\n"
            ],
            "application/vnd.google.colaboratory.intrinsic+json": {
              "type": "dataframe",
              "variable_name": "df",
              "summary": "{\n  \"name\": \"df\",\n  \"rows\": 25207,\n  \"fields\": [\n    {\n      \"column\": \"title\",\n      \"properties\": {\n        \"dtype\": \"string\",\n        \"num_unique_values\": 24159,\n        \"samples\": [\n          \"Tens of thousands celebrate Burnley's Championship title win\",\n          \"Hundreds recalled over shoulder op concerns at Walsall hospital\",\n          \"Manchester City 1-0 Chelsea: Blues celebrate third straight title with home win\"\n        ],\n        \"semantic_type\": \"\",\n        \"description\": \"\"\n      }\n    },\n    {\n      \"column\": \"pubDate\",\n      \"properties\": {\n        \"dtype\": \"object\",\n        \"num_unique_values\": 24659,\n        \"samples\": [\n          \"Mon, 08 Aug 2022 22:09:40 GMT\",\n          \"Fri, 08 Sep 2023 19:58:06 GMT\",\n          \"Sat, 27 Aug 2022 20:49:51 GMT\"\n        ],\n        \"semantic_type\": \"\",\n        \"description\": \"\"\n      }\n    },\n    {\n      \"column\": \"guid\",\n      \"properties\": {\n        \"dtype\": \"string\",\n        \"num_unique_values\": 23015,\n        \"samples\": [\n          \"https://www.bbc.co.uk/news/world-middle-east-67039975\",\n          \"https://www.bbc.co.uk/news/uk-wales-66650172\",\n          \"https://www.bbc.co.uk/sport/football/59625599\"\n        ],\n        \"semantic_type\": \"\",\n        \"description\": \"\"\n      }\n    },\n    {\n      \"column\": \"link\",\n      \"properties\": {\n        \"dtype\": \"string\",\n        \"num_unique_values\": 23015,\n        \"samples\": [\n          \"https://www.bbc.co.uk/news/world-middle-east-67039975?at_medium=RSS&at_campaign=KARANGA\",\n          \"https://www.bbc.co.uk/news/uk-wales-66650172?at_medium=RSS&at_campaign=KARANGA\",\n          \"https://www.bbc.co.uk/sport/football/59625599?at_medium=RSS&at_campaign=KARANGA\"\n        ],\n        \"semantic_type\": \"\",\n        \"description\": \"\"\n      }\n    },\n    {\n      \"column\": \"description\",\n      \"properties\": {\n        \"dtype\": \"string\",\n        \"num_unique_values\": 23653,\n        \"samples\": [\n          \"Liverpool agree to sign Netherlands forward Cody Gakpo from PSV Eindhoven, say the Dutch club.\",\n          \"Two journalists were summoned by Sir Lindsay Hoyle to discuss an article about Labour's deputy leader.\",\n          \"The five matches at the World Cup so far have had much more stoppage time added on at the end of games than usual, but why?\"\n        ],\n        \"semantic_type\": \"\",\n        \"description\": \"\"\n      }\n    }\n  ]\n}"
            }
          },
          "metadata": {},
          "execution_count": 11
        }
      ]
    },
    {
      "cell_type": "code",
      "source": [
        "text=df['description']\n",
        "print(\"description:\\n\",text)"
      ],
      "metadata": {
        "colab": {
          "base_uri": "https://localhost:8080/"
        },
        "id": "piUuKJnfxH42",
        "outputId": "d4dee1fa-5587-4d93-c198-eea47d58956e"
      },
      "execution_count": 12,
      "outputs": [
        {
          "output_type": "stream",
          "name": "stdout",
          "text": [
            "description:\n",
            " 0        The Ukrainian president says the country will ...\n",
            "1        Jeremy Bowen was on the frontline in Irpin, as...\n",
            "2        One of the world's biggest fertiliser firms sa...\n",
            "3        The parents of the Manchester Arena bombing's ...\n",
            "4        Consumers are feeling the impact of higher ene...\n",
            "                               ...                        \n",
            "25202    A court hears about the pain of Ashling Murphy...\n",
            "25203    The clip sees Tennant crashing his Tardis at t...\n",
            "25204    A police officer \"immediately engaged and shot...\n",
            "25205    It has stirred an extraordinary level of criti...\n",
            "25206    Dale Houghton is given a 12-week suspended jai...\n",
            "Name: description, Length: 25207, dtype: object\n"
          ]
        }
      ]
    },
    {
      "cell_type": "code",
      "source": [
        "from nltk.corpus import stopwords\n",
        "from nltk.tokenize import word_tokenize\n",
        "from sklearn.feature_extraction.text import CountVectorizer\n",
        "import string"
      ],
      "metadata": {
        "id": "-7kvDo7ixf7E"
      },
      "execution_count": 13,
      "outputs": []
    },
    {
      "cell_type": "code",
      "source": [
        "#lowercasing\n",
        "import re\n",
        "def preprocess_text(text):\n",
        "  text=text.lower()\n",
        "  #remove punctuation\n",
        "  text=text.translate(str.maketrans('','',string.punctuation))\n",
        "  text=re.sub(r'[^a-zA-Z0-9\\s]',\"\",text)\n",
        "  tokens=word_tokenize(text)\n",
        "  #remove stopwords\n",
        "  stop_words=set(stopwords.words('english'))\n",
        "  tokens=[word for word in tokens if word not in stop_words]\n",
        "  #remove punctuation\n",
        "  return \" \".join(tokens)\n",
        "  #Apply preprocessing\n",
        "df[\"cleaned_text\"]=df['description'].astype(str).apply(preprocess_text)\n",
        "print(df[\"cleaned_text\"])"
      ],
      "metadata": {
        "colab": {
          "base_uri": "https://localhost:8080/"
        },
        "id": "-NCw_ssfza9z",
        "outputId": "d4ebb77f-a448-498a-cc95-26ef3b5a0808"
      },
      "execution_count": 14,
      "outputs": [
        {
          "output_type": "stream",
          "name": "stdout",
          "text": [
            "0        ukrainian president says country forgive forge...\n",
            "1        jeremy bowen frontline irpin residents came ru...\n",
            "2        one worlds biggest fertiliser firms says confl...\n",
            "3        parents manchester arena bombings youngest vic...\n",
            "4        consumers feeling impact higher energy costs f...\n",
            "                               ...                        \n",
            "25202    court hears pain ashling murphys mother sister...\n",
            "25203    clip sees tennant crashing tardis genesis dale...\n",
            "25204    police officer immediately engaged shot suspec...\n",
            "25205    stirred extraordinary level criticism within p...\n",
            "25206       dale houghton given 12week suspended jail term\n",
            "Name: cleaned_text, Length: 25207, dtype: object\n"
          ]
        }
      ]
    },
    {
      "cell_type": "code",
      "source": [
        "print(df)"
      ],
      "metadata": {
        "colab": {
          "base_uri": "https://localhost:8080/"
        },
        "id": "-lTw6igA6AN7",
        "outputId": "67b9c132-c1c2-4e64-fdec-24668b26d23e"
      },
      "execution_count": 15,
      "outputs": [
        {
          "output_type": "stream",
          "name": "stdout",
          "text": [
            "                                                   title  \\\n",
            "0      Ukraine: Angry Zelensky vows to punish Russian...   \n",
            "1      War in Ukraine: Taking cover in a town under a...   \n",
            "2             Ukraine war 'catastrophic for global food'   \n",
            "3      Manchester Arena bombing: Saffie Roussos's par...   \n",
            "4      Ukraine conflict: Oil price soars to highest l...   \n",
            "...                                                  ...   \n",
            "25202  Ashling Murphy: Victim impact statements from ...   \n",
            "25203  David Tennant returns as Doctor Who for Childr...   \n",
            "25204  One killed in New Hampshire psychiatric hospit...   \n",
            "25205  Biden facing growing internal dissent over Isr...   \n",
            "25206  Bradley Lowery: Sheffield Wednesday fan senten...   \n",
            "\n",
            "                             pubDate  \\\n",
            "0      Mon, 07 Mar 2022 08:01:56 GMT   \n",
            "1      Sun, 06 Mar 2022 22:49:58 GMT   \n",
            "2      Mon, 07 Mar 2022 00:14:42 GMT   \n",
            "3      Mon, 07 Mar 2022 00:05:40 GMT   \n",
            "4      Mon, 07 Mar 2022 08:15:53 GMT   \n",
            "...                              ...   \n",
            "25202  Fri, 17 Nov 2023 20:27:09 GMT   \n",
            "25203  Fri, 17 Nov 2023 22:14:05 GMT   \n",
            "25204  Sat, 18 Nov 2023 00:22:30 GMT   \n",
            "25205  Fri, 17 Nov 2023 18:22:03 GMT   \n",
            "25206  Fri, 17 Nov 2023 16:43:35 GMT   \n",
            "\n",
            "                                                    guid  \\\n",
            "0       https://www.bbc.co.uk/news/world-europe-60638042   \n",
            "1       https://www.bbc.co.uk/news/world-europe-60641873   \n",
            "2           https://www.bbc.co.uk/news/business-60623941   \n",
            "3                 https://www.bbc.co.uk/news/uk-60579079   \n",
            "4           https://www.bbc.co.uk/news/business-60642786   \n",
            "...                                                  ...   \n",
            "25202  https://www.bbc.co.uk/news/uk-northern-ireland...   \n",
            "25203  https://www.bbc.co.uk/news/entertainment-arts-...   \n",
            "25204  https://www.bbc.co.uk/news/world-us-canada-674...   \n",
            "25205  https://www.bbc.co.uk/news/world-us-canada-674...   \n",
            "25206  https://www.bbc.co.uk/news/uk-england-south-yo...   \n",
            "\n",
            "                                                    link  \\\n",
            "0      https://www.bbc.co.uk/news/world-europe-606380...   \n",
            "1      https://www.bbc.co.uk/news/world-europe-606418...   \n",
            "2      https://www.bbc.co.uk/news/business-60623941?a...   \n",
            "3      https://www.bbc.co.uk/news/uk-60579079?at_medi...   \n",
            "4      https://www.bbc.co.uk/news/business-60642786?a...   \n",
            "...                                                  ...   \n",
            "25202  https://www.bbc.co.uk/news/uk-northern-ireland...   \n",
            "25203  https://www.bbc.co.uk/news/entertainment-arts-...   \n",
            "25204  https://www.bbc.co.uk/news/world-us-canada-674...   \n",
            "25205  https://www.bbc.co.uk/news/world-us-canada-674...   \n",
            "25206  https://www.bbc.co.uk/news/uk-england-south-yo...   \n",
            "\n",
            "                                             description  \\\n",
            "0      The Ukrainian president says the country will ...   \n",
            "1      Jeremy Bowen was on the frontline in Irpin, as...   \n",
            "2      One of the world's biggest fertiliser firms sa...   \n",
            "3      The parents of the Manchester Arena bombing's ...   \n",
            "4      Consumers are feeling the impact of higher ene...   \n",
            "...                                                  ...   \n",
            "25202  A court hears about the pain of Ashling Murphy...   \n",
            "25203  The clip sees Tennant crashing his Tardis at t...   \n",
            "25204  A police officer \"immediately engaged and shot...   \n",
            "25205  It has stirred an extraordinary level of criti...   \n",
            "25206  Dale Houghton is given a 12-week suspended jai...   \n",
            "\n",
            "                                            cleaned_text  \n",
            "0      ukrainian president says country forgive forge...  \n",
            "1      jeremy bowen frontline irpin residents came ru...  \n",
            "2      one worlds biggest fertiliser firms says confl...  \n",
            "3      parents manchester arena bombings youngest vic...  \n",
            "4      consumers feeling impact higher energy costs f...  \n",
            "...                                                  ...  \n",
            "25202  court hears pain ashling murphys mother sister...  \n",
            "25203  clip sees tennant crashing tardis genesis dale...  \n",
            "25204  police officer immediately engaged shot suspec...  \n",
            "25205  stirred extraordinary level criticism within p...  \n",
            "25206     dale houghton given 12week suspended jail term  \n",
            "\n",
            "[25207 rows x 6 columns]\n"
          ]
        }
      ]
    },
    {
      "cell_type": "code",
      "source": [
        "vectorizer=CountVectorizer()\n",
        "X=vectorizer.fit_transform(df[\"cleaned_text\"])\n",
        "print(X)"
      ],
      "metadata": {
        "colab": {
          "base_uri": "https://localhost:8080/"
        },
        "id": "93MiswF06qF1",
        "outputId": "adf54075-d770-4429-a989-17cb5088d30e"
      },
      "execution_count": 16,
      "outputs": [
        {
          "output_type": "stream",
          "name": "stdout",
          "text": [
            "<Compressed Sparse Row sparse matrix of dtype 'int64'\n",
            "\twith 274949 stored elements and shape (25207, 27823)>\n",
            "  Coords\tValues\n",
            "  (0, 25873)\t1\n",
            "  (0, 19588)\t1\n",
            "  (0, 21964)\t1\n",
            "  (0, 6495)\t1\n",
            "  (0, 10333)\t1\n",
            "  (0, 10331)\t1\n",
            "  (0, 16972)\t1\n",
            "  (0, 5518)\t1\n",
            "  (1, 13570)\t1\n",
            "  (1, 4138)\t1\n",
            "  (1, 10564)\t1\n",
            "  (1, 13310)\t1\n",
            "  (1, 21038)\t1\n",
            "  (1, 4744)\t1\n",
            "  (1, 21669)\t1\n",
            "  (1, 9996)\t1\n",
            "  (1, 25664)\t1\n",
            "  (1, 10151)\t1\n",
            "  (2, 21964)\t1\n",
            "  (2, 17925)\t1\n",
            "  (2, 27467)\t1\n",
            "  (2, 3688)\t1\n",
            "  (2, 9836)\t1\n",
            "  (2, 10019)\t1\n",
            "  (2, 6087)\t1\n",
            "  :\t:\n",
            "  (25203, 24639)\t1\n",
            "  (25203, 6905)\t1\n",
            "  (25204, 2850)\t1\n",
            "  (25204, 22764)\t1\n",
            "  (25204, 19249)\t1\n",
            "  (25204, 9535)\t1\n",
            "  (25204, 12721)\t1\n",
            "  (25204, 17808)\t1\n",
            "  (25204, 24390)\t1\n",
            "  (25204, 8838)\t1\n",
            "  (25204, 6042)\t1\n",
            "  (25205, 27364)\t1\n",
            "  (25205, 19591)\t1\n",
            "  (25205, 9469)\t1\n",
            "  (25205, 6680)\t1\n",
            "  (25205, 14799)\t1\n",
            "  (25205, 23892)\t1\n",
            "  (25205, 1603)\t1\n",
            "  (25206, 24394)\t1\n",
            "  (25206, 11003)\t1\n",
            "  (25206, 13443)\t1\n",
            "  (25206, 24835)\t1\n",
            "  (25206, 12436)\t1\n",
            "  (25206, 159)\t1\n",
            "  (25206, 6904)\t1\n"
          ]
        }
      ]
    },
    {
      "cell_type": "code",
      "source": [
        "import matplotlib.pyplot as plt\n",
        "allwords=\" \".join(df[\"cleaned_text\"]).split()\n",
        "# Count words one by one\n",
        "wordfreq={}\n",
        "for word in allwords:\n",
        "    if word in wordfreq:\n",
        "        wordfreq[word]+=1\n",
        "    else:\n",
        "        wordfreq[word]=1\n",
        "sorted_words=sorted(wordfreq.items(),key=lambda x:x[1],reverse=True)[:20]\n",
        "words=[w for w, c in sorted_words]\n",
        "counts=[c for w, c in sorted_words]\n",
        "plt.bar(words,counts)\n",
        "plt.xticks(rotation=45)\n",
        "plt.xlabel(\"Words\")\n",
        "plt.ylabel(\"Frequency\")\n",
        "plt.title(\"Most frequent 20 Words in Article description\")\n",
        "plt.show()"
      ],
      "metadata": {
        "colab": {
          "base_uri": "https://localhost:8080/",
          "height": 507
        },
        "id": "Di6nccm9Dj3Q",
        "outputId": "18f76cab-728a-41b0-e1b1-bbc1d47111aa"
      },
      "execution_count": 17,
      "outputs": [
        {
          "output_type": "display_data",
          "data": {
            "text/plain": [
              "<Figure size 640x480 with 1 Axes>"
            ],
            "image/png": "[encoded data removed]"
          },
          "metadata": {}
        }
      ]
    },
    {
      "cell_type": "code",
      "source": [
        "df['article_length']=df['cleaned_text'].apply(lambda x: len(x.split()))\n",
        "plt.figure(figsize=(10,6))\n",
        "plt.hist(df['article_length'],bins=50,color='green',edgecolor='black')\n",
        "plt.xlabel('Article Length')\n",
        "plt.ylabel('Frequency')\n",
        "plt.title('Distribution of Article Lengths')\n",
        "plt.show()"
      ],
      "metadata": {
        "colab": {
          "base_uri": "https://localhost:8080/",
          "height": 564
        },
        "id": "9aeMj5azTICr",
        "outputId": "ff14da7b-92cd-41db-960b-15b2896fe7cc"
      },
      "execution_count": 20,
      "outputs": [
        {
          "output_type": "display_data",
          "data": {
            "text/plain": [
              "<Figure size 1000x600 with 1 Axes>"
            ],
            "image/png": "[encoded data removed]"
          },
          "metadata": {}
        }
      ]
    }
  ]
}
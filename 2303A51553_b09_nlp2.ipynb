{
  "nbformat": 4,
  "nbformat_minor": 0,
  "metadata": {
    "colab": {
      "provenance": [],
      "authorship_tag": "ABX9TyMtf//1OYysHEDMO0rO+Lxm",
      "include_colab_link": true
    },
    "kernelspec": {
      "name": "python3",
      "display_name": "Python 3"
    },
    "language_info": {
      "name": "python"
    }
  },
  "cells": [
    {
      "cell_type": "markdown",
      "metadata": {
        "id": "view-in-github",
        "colab_type": "text"
      },
      "source": [
        "<a href=\"https://colab.research.google.com/github/2303A51553/Natural-language-process/blob/main/2303A51553_b09_nlp2.ipynb\" target=\"_parent\"><img src=\"https://colab.research.google.com/assets/colab-badge.svg\" alt=\"Open In Colab\"/></a>"
      ]
    },
    {
      "cell_type": "code",
      "execution_count": null,
      "metadata": {
        "colab": {
          "base_uri": "https://localhost:8080/"
        },
        "id": "lRFadXtvNJJ0",
        "outputId": "7a395f64-efd0-4da5-ebf7-bc87424917c1"
      },
      "outputs": [
        {
          "output_type": "stream",
          "name": "stdout",
          "text": [
            "Requirement already satisfied: pandas in /usr/local/lib/python3.11/dist-packages (2.2.2)\n",
            "Requirement already satisfied: spacy in /usr/local/lib/python3.11/dist-packages (3.8.7)\n",
            "Requirement already satisfied: numpy>=1.23.2 in /usr/local/lib/python3.11/dist-packages (from pandas) (2.0.2)\n",
            "Requirement already satisfied: python-dateutil>=2.8.2 in /usr/local/lib/python3.11/dist-packages (from pandas) (2.9.0.post0)\n",
            "Requirement already satisfied: pytz>=2020.1 in /usr/local/lib/python3.11/dist-packages (from pandas) (2025.2)\n",
            "Requirement already satisfied: tzdata>=2022.7 in /usr/local/lib/python3.11/dist-packages (from pandas) (2025.2)\n",
            "Requirement already satisfied: spacy-legacy<3.1.0,>=3.0.11 in /usr/local/lib/python3.11/dist-packages (from spacy) (3.0.12)\n",
            "Requirement already satisfied: spacy-loggers<2.0.0,>=1.0.0 in /usr/local/lib/python3.11/dist-packages (from spacy) (1.0.5)\n",
            "Requirement already satisfied: murmurhash<1.1.0,>=0.28.0 in /usr/local/lib/python3.11/dist-packages (from spacy) (1.0.13)\n",
            "Requirement already satisfied: cymem<2.1.0,>=2.0.2 in /usr/local/lib/python3.11/dist-packages (from spacy) (2.0.11)\n",
            "Requirement already satisfied: preshed<3.1.0,>=3.0.2 in /usr/local/lib/python3.11/dist-packages (from spacy) (3.0.10)\n",
            "Requirement already satisfied: thinc<8.4.0,>=8.3.4 in /usr/local/lib/python3.11/dist-packages (from spacy) (8.3.6)\n",
            "Requirement already satisfied: wasabi<1.2.0,>=0.9.1 in /usr/local/lib/python3.11/dist-packages (from spacy) (1.1.3)\n",
            "Requirement already satisfied: srsly<3.0.0,>=2.4.3 in /usr/local/lib/python3.11/dist-packages (from spacy) (2.5.1)\n",
            "Requirement already satisfied: catalogue<2.1.0,>=2.0.6 in /usr/local/lib/python3.11/dist-packages (from spacy) (2.0.10)\n",
            "Requirement already satisfied: weasel<0.5.0,>=0.1.0 in /usr/local/lib/python3.11/dist-packages (from spacy) (0.4.1)\n",
            "Requirement already satisfied: typer<1.0.0,>=0.3.0 in /usr/local/lib/python3.11/dist-packages (from spacy) (0.16.0)\n",
            "Requirement already satisfied: tqdm<5.0.0,>=4.38.0 in /usr/local/lib/python3.11/dist-packages (from spacy) (4.67.1)\n",
            "Requirement already satisfied: requests<3.0.0,>=2.13.0 in /usr/local/lib/python3.11/dist-packages (from spacy) (2.32.3)\n",
            "Requirement already satisfied: pydantic!=1.8,!=1.8.1,<3.0.0,>=1.7.4 in /usr/local/lib/python3.11/dist-packages (from spacy) (2.11.7)\n",
            "Requirement already satisfied: jinja2 in /usr/local/lib/python3.11/dist-packages (from spacy) (3.1.6)\n",
            "Requirement already satisfied: setuptools in /usr/local/lib/python3.11/dist-packages (from spacy) (75.2.0)\n",
            "Requirement already satisfied: packaging>=20.0 in /usr/local/lib/python3.11/dist-packages (from spacy) (25.0)\n",
            "Requirement already satisfied: langcodes<4.0.0,>=3.2.0 in /usr/local/lib/python3.11/dist-packages (from spacy) (3.5.0)\n",
            "Requirement already satisfied: language-data>=1.2 in /usr/local/lib/python3.11/dist-packages (from langcodes<4.0.0,>=3.2.0->spacy) (1.3.0)\n",
            "Requirement already satisfied: annotated-types>=0.6.0 in /usr/local/lib/python3.11/dist-packages (from pydantic!=1.8,!=1.8.1,<3.0.0,>=1.7.4->spacy) (0.7.0)\n",
            "Requirement already satisfied: pydantic-core==2.33.2 in /usr/local/lib/python3.11/dist-packages (from pydantic!=1.8,!=1.8.1,<3.0.0,>=1.7.4->spacy) (2.33.2)\n",
            "Requirement already satisfied: typing-extensions>=4.12.2 in /usr/local/lib/python3.11/dist-packages (from pydantic!=1.8,!=1.8.1,<3.0.0,>=1.7.4->spacy) (4.14.1)\n",
            "Requirement already satisfied: typing-inspection>=0.4.0 in /usr/local/lib/python3.11/dist-packages (from pydantic!=1.8,!=1.8.1,<3.0.0,>=1.7.4->spacy) (0.4.1)\n",
            "Requirement already satisfied: six>=1.5 in /usr/local/lib/python3.11/dist-packages (from python-dateutil>=2.8.2->pandas) (1.17.0)\n",
            "Requirement already satisfied: charset-normalizer<4,>=2 in /usr/local/lib/python3.11/dist-packages (from requests<3.0.0,>=2.13.0->spacy) (3.4.3)\n",
            "Requirement already satisfied: idna<4,>=2.5 in /usr/local/lib/python3.11/dist-packages (from requests<3.0.0,>=2.13.0->spacy) (3.10)\n",
            "Requirement already satisfied: urllib3<3,>=1.21.1 in /usr/local/lib/python3.11/dist-packages (from requests<3.0.0,>=2.13.0->spacy) (2.5.0)\n",
            "Requirement already satisfied: certifi>=2017.4.17 in /usr/local/lib/python3.11/dist-packages (from requests<3.0.0,>=2.13.0->spacy) (2025.8.3)\n",
            "Requirement already satisfied: blis<1.4.0,>=1.3.0 in /usr/local/lib/python3.11/dist-packages (from thinc<8.4.0,>=8.3.4->spacy) (1.3.0)\n",
            "Requirement already satisfied: confection<1.0.0,>=0.0.1 in /usr/local/lib/python3.11/dist-packages (from thinc<8.4.0,>=8.3.4->spacy) (0.1.5)\n",
            "Requirement already satisfied: click>=8.0.0 in /usr/local/lib/python3.11/dist-packages (from typer<1.0.0,>=0.3.0->spacy) (8.2.1)\n",
            "Requirement already satisfied: shellingham>=1.3.0 in /usr/local/lib/python3.11/dist-packages (from typer<1.0.0,>=0.3.0->spacy) (1.5.4)\n",
            "Requirement already satisfied: rich>=10.11.0 in /usr/local/lib/python3.11/dist-packages (from typer<1.0.0,>=0.3.0->spacy) (13.9.4)\n",
            "Requirement already satisfied: cloudpathlib<1.0.0,>=0.7.0 in /usr/local/lib/python3.11/dist-packages (from weasel<0.5.0,>=0.1.0->spacy) (0.21.1)\n",
            "Requirement already satisfied: smart-open<8.0.0,>=5.2.1 in /usr/local/lib/python3.11/dist-packages (from weasel<0.5.0,>=0.1.0->spacy) (7.3.0.post1)\n",
            "Requirement already satisfied: MarkupSafe>=2.0 in /usr/local/lib/python3.11/dist-packages (from jinja2->spacy) (3.0.2)\n",
            "Requirement already satisfied: marisa-trie>=1.1.0 in /usr/local/lib/python3.11/dist-packages (from language-data>=1.2->langcodes<4.0.0,>=3.2.0->spacy) (1.2.1)\n",
            "Requirement already satisfied: markdown-it-py>=2.2.0 in /usr/local/lib/python3.11/dist-packages (from rich>=10.11.0->typer<1.0.0,>=0.3.0->spacy) (4.0.0)\n",
            "Requirement already satisfied: pygments<3.0.0,>=2.13.0 in /usr/local/lib/python3.11/dist-packages (from rich>=10.11.0->typer<1.0.0,>=0.3.0->spacy) (2.19.2)\n",
            "Requirement already satisfied: wrapt in /usr/local/lib/python3.11/dist-packages (from smart-open<8.0.0,>=5.2.1->weasel<0.5.0,>=0.1.0->spacy) (1.17.2)\n",
            "Requirement already satisfied: mdurl~=0.1 in /usr/local/lib/python3.11/dist-packages (from markdown-it-py>=2.2.0->rich>=10.11.0->typer<1.0.0,>=0.3.0->spacy) (0.1.2)\n"
          ]
        }
      ],
      "source": [
        "!pip install pandas spacy"
      ]
    },
    {
      "cell_type": "code",
      "source": [
        "import pandas as pd"
      ],
      "metadata": {
        "id": "aAx_tKMbN85R"
      },
      "execution_count": null,
      "outputs": []
    },
    {
      "cell_type": "code",
      "source": [
        "df=pd.read_csv('/content/Consumer_Complaints.csv')"
      ],
      "metadata": {
        "id": "MO1SfDEDOBK0"
      },
      "execution_count": null,
      "outputs": []
    },
    {
      "cell_type": "code",
      "source": [
        "print(df['Consumer Complaint'])"
      ],
      "metadata": {
        "colab": {
          "base_uri": "https://localhost:8080/"
        },
        "id": "wVQrFkWAOYlw",
        "outputId": "0c35c5a6-fdab-4ac0-d669-1f8cde1be0de"
      },
      "execution_count": null,
      "outputs": [
        {
          "output_type": "stream",
          "name": "stdout",
          "text": [
            "0                                                       NaN\n",
            "1         I have outdated information on my credit repor...\n",
            "2         I purchased a new car on XXXX XXXX. The car de...\n",
            "3                                                       NaN\n",
            "4                                                       NaN\n",
            "                                ...                        \n",
            "470143                                                  NaN\n",
            "470144    I want to report two banks to the federal gove...\n",
            "470145    XXXX sent a false loan verification over to XX...\n",
            "470146                                                  NaN\n",
            "470147                                                  NaN\n",
            "Name: Consumer Complaint, Length: 470148, dtype: object\n"
          ]
        }
      ]
    },
    {
      "cell_type": "code",
      "source": [
        "text=df['Consumer Complaint'].iloc[0:25]\n",
        "print(\"First 25 complaint texts:\\n\",text)"
      ],
      "metadata": {
        "colab": {
          "base_uri": "https://localhost:8080/"
        },
        "id": "D2p0pCM9OpcZ",
        "outputId": "4198d868-b327-449d-8f3a-b395761cdb6c"
      },
      "execution_count": null,
      "outputs": [
        {
          "output_type": "stream",
          "name": "stdout",
          "text": [
            "First 25 complaint texts:\n",
            " 0                                                   NaN\n",
            "1     I have outdated information on my credit repor...\n",
            "2     I purchased a new car on XXXX XXXX. The car de...\n",
            "3                                                   NaN\n",
            "4                                                   NaN\n",
            "5                                                   NaN\n",
            "6                                                   NaN\n",
            "7     An account on my credit report has a mistaken ...\n",
            "8                                                   NaN\n",
            "9                                                   NaN\n",
            "10                                                  NaN\n",
            "11                                                  NaN\n",
            "12    This company refuses to provide me verificatio...\n",
            "13                                                  NaN\n",
            "14                                                  NaN\n",
            "15                                                  NaN\n",
            "16    This complaint is in regards to Square Two Fin...\n",
            "17                                                  NaN\n",
            "18                                                  NaN\n",
            "19                                                  NaN\n",
            "20                                                  NaN\n",
            "21                                                  NaN\n",
            "22                                                  NaN\n",
            "23                                                  NaN\n",
            "24                                                  NaN\n",
            "Name: Consumer Complaint, dtype: object\n"
          ]
        }
      ]
    },
    {
      "cell_type": "markdown",
      "source": [
        "Number of characters and words per text"
      ],
      "metadata": {
        "id": "l-TFpss3PtsV"
      }
    },
    {
      "cell_type": "code",
      "metadata": {
        "colab": {
          "base_uri": "https://localhost:8080/"
        },
        "id": "b4981a9b",
        "outputId": "ba774e73-a774-42c1-a3ac-851f1f979dee"
      },
      "source": [
        "print(\"Number of words:\", len(str(df['Consumer Complaint'].iloc[1]).split()))"
      ],
      "execution_count": null,
      "outputs": [
        {
          "output_type": "stream",
          "name": "stdout",
          "text": [
            "Number of words: 34\n"
          ]
        }
      ]
    },
    {
      "cell_type": "code",
      "metadata": {
        "colab": {
          "base_uri": "https://localhost:8080/"
        },
        "id": "60df09b7",
        "outputId": "68fb270d-33b0-452f-ef62-bafa82fe7ff3"
      },
      "source": [
        "print(\"Number of characters:\", len(str(df['Consumer Complaint'].iloc[1])))"
      ],
      "execution_count": null,
      "outputs": [
        {
          "output_type": "stream",
          "name": "stdout",
          "text": [
            "Number of characters: 200\n"
          ]
        }
      ]
    },
    {
      "cell_type": "code",
      "source": [
        "d=df['Consumer Complaint']\n",
        "print(d)"
      ],
      "metadata": {
        "colab": {
          "base_uri": "https://localhost:8080/"
        },
        "id": "0n-x0aSMSV9s",
        "outputId": "6e88144d-faa9-4daa-8699-7e2c2b620439"
      },
      "execution_count": null,
      "outputs": [
        {
          "output_type": "stream",
          "name": "stdout",
          "text": [
            "0                                                       NaN\n",
            "1         I have outdated information on my credit repor...\n",
            "2         I purchased a new car on XXXX XXXX. The car de...\n",
            "3                                                       NaN\n",
            "4                                                       NaN\n",
            "                                ...                        \n",
            "470143                                                  NaN\n",
            "470144    I want to report two banks to the federal gove...\n",
            "470145    XXXX sent a false loan verification over to XX...\n",
            "470146                                                  NaN\n",
            "470147                                                  NaN\n",
            "Name: Consumer Complaint, Length: 470148, dtype: object\n"
          ]
        }
      ]
    },
    {
      "cell_type": "code",
      "source": [
        "dd=d.iloc[1]\n",
        "print(dd)"
      ],
      "metadata": {
        "colab": {
          "base_uri": "https://localhost:8080/"
        },
        "id": "O1XLhL3eSVrG",
        "outputId": "0e2bc6e8-0671-4969-a9b4-4321f422ee38"
      },
      "execution_count": null,
      "outputs": [
        {
          "output_type": "stream",
          "name": "stdout",
          "text": [
            "I have outdated information on my credit report that I have previously disputed that has yet to be removed this information is more then seven years old and does not meet credit reporting requirements\n"
          ]
        }
      ]
    },
    {
      "cell_type": "markdown",
      "source": [
        "spaCy"
      ],
      "metadata": {
        "id": "ih9JyVuMSubx"
      }
    },
    {
      "cell_type": "code",
      "source": [
        "import spacy"
      ],
      "metadata": {
        "id": "b7gv8db5Swsx"
      },
      "execution_count": null,
      "outputs": []
    },
    {
      "cell_type": "markdown",
      "source": [
        "Tokenization"
      ],
      "metadata": {
        "id": "O6WvEFxFTnof"
      }
    },
    {
      "cell_type": "code",
      "source": [
        "nlp=spacy.load('en_core_web_sm')"
      ],
      "metadata": {
        "id": "rNOUk-UjTs1z"
      },
      "execution_count": null,
      "outputs": []
    },
    {
      "cell_type": "code",
      "source": [
        "print(\"\\n Sentence Tokenization:\")\n",
        "for s in doc.sents:\n",
        "  print(s.text)"
      ],
      "metadata": {
        "colab": {
          "base_uri": "https://localhost:8080/"
        },
        "id": "Ze1q3wpTUcUE",
        "outputId": "f463058e-eaea-456c-f123-8eafb4f15124"
      },
      "execution_count": null,
      "outputs": [
        {
          "output_type": "stream",
          "name": "stdout",
          "text": [
            "\n",
            " Sentence Tokenization:\n",
            "I have outdated information on my credit report that I have previously disputed that has yet to be removed this information is more then seven years old and does not meet credit reporting requirements\n"
          ]
        }
      ]
    },
    {
      "cell_type": "code",
      "source": [
        "print(\"\\n Word Tokenization:\")\n",
        "for w in doc:\n",
        "  print(w.text)"
      ],
      "metadata": {
        "colab": {
          "base_uri": "https://localhost:8080/"
        },
        "id": "FYBDuvUjVjI1",
        "outputId": "206a75e0-0b1a-44ca-f6c8-fc9b3b317c0d"
      },
      "execution_count": null,
      "outputs": [
        {
          "output_type": "stream",
          "name": "stdout",
          "text": [
            "\n",
            " Word Tokenization:\n",
            "I\n",
            "have\n",
            "outdated\n",
            "information\n",
            "on\n",
            "my\n",
            "credit\n",
            "report\n",
            "that\n",
            "I\n",
            "have\n",
            "previously\n",
            "disputed\n",
            "that\n",
            "has\n",
            "yet\n",
            "to\n",
            "be\n",
            "removed\n",
            "this\n",
            "information\n",
            "is\n",
            "more\n",
            "then\n",
            "seven\n",
            "years\n",
            "old\n",
            "and\n",
            "does\n",
            "not\n",
            "meet\n",
            "credit\n",
            "reporting\n",
            "requirements\n"
          ]
        }
      ]
    },
    {
      "cell_type": "code",
      "source": [
        "doc=nlp(dd)\n",
        "for i in doc:\n",
        "    print(i,\"=\",i.pos_)"
      ],
      "metadata": {
        "colab": {
          "base_uri": "https://localhost:8080/"
        },
        "id": "bFz3rkJcS7Y-",
        "outputId": "20ea74c8-7bfd-4325-abea-45710a8a3441"
      },
      "execution_count": null,
      "outputs": [
        {
          "output_type": "stream",
          "name": "stdout",
          "text": [
            "I = PRON\n",
            "have = VERB\n",
            "outdated = VERB\n",
            "information = NOUN\n",
            "on = ADP\n",
            "my = PRON\n",
            "credit = NOUN\n",
            "report = NOUN\n",
            "that = PRON\n",
            "I = PRON\n",
            "have = AUX\n",
            "previously = ADV\n",
            "disputed = VERB\n",
            "that = PRON\n",
            "has = VERB\n",
            "yet = ADV\n",
            "to = PART\n",
            "be = AUX\n",
            "removed = VERB\n",
            "this = DET\n",
            "information = NOUN\n",
            "is = AUX\n",
            "more = ADV\n",
            "then = ADV\n",
            "seven = NUM\n",
            "years = NOUN\n",
            "old = ADJ\n",
            "and = CCONJ\n",
            "does = AUX\n",
            "not = PART\n",
            "meet = VERB\n",
            "credit = NOUN\n",
            "reporting = NOUN\n",
            "requirements = NOUN\n"
          ]
        }
      ]
    },
    {
      "cell_type": "code",
      "source": [
        "pos_counts = {\n",
        "\"NOUN\": 0,\n",
        "\"PRON\": 0,\n",
        "\"VERB\": 0,\n",
        "\"ADV\": 0\n",
        "}\n",
        "for i in doc:\n",
        "      if i.pos_ in pos_counts:\n",
        "              pos_counts[i.pos_] += 1\n",
        "for pos, count in pos_counts.items():\n",
        "      print(f\"Number of {pos.lower()}s: {count}\")"
      ],
      "metadata": {
        "colab": {
          "base_uri": "https://localhost:8080/"
        },
        "id": "VG4z8sU2TUjB",
        "outputId": "89f8a405-6f9e-4bf7-d03c-b1332a815d1d"
      },
      "execution_count": null,
      "outputs": [
        {
          "output_type": "stream",
          "name": "stdout",
          "text": [
            "Number of nouns: 8\n",
            "Number of prons: 5\n",
            "Number of verbs: 6\n",
            "Number of advs: 4\n"
          ]
        }
      ]
    },
    {
      "cell_type": "code",
      "source": [
        "print(\"Verbs and Adjectives in the text:\")\n",
        "for i in doc:\n",
        "    if i.pos_ in [\"VERB\", \"ADJ\"]:\n",
        "        print(i.text, \"=\", i.pos_)"
      ],
      "metadata": {
        "colab": {
          "base_uri": "https://localhost:8080/"
        },
        "id": "rDxSJiBSTdEq",
        "outputId": "55972134-c5e6-4b4c-cf8a-2373cbceef23"
      },
      "execution_count": null,
      "outputs": [
        {
          "output_type": "stream",
          "name": "stdout",
          "text": [
            "Verbs and Adjectives in the text:\n",
            "have = VERB\n",
            "outdated = VERB\n",
            "disputed = VERB\n",
            "has = VERB\n",
            "removed = VERB\n",
            "old = ADJ\n",
            "meet = VERB\n"
          ]
        }
      ]
    },
    {
      "cell_type": "code",
      "source": [
        "import matplotlib.pyplot as plt\n",
        "pos_labels = list(pos_counts.keys())\n",
        "counts = list(pos_counts.values())\n",
        "\n",
        "plt.figure(figsize=(8,5))\n",
        "plt.bar(pos_labels, counts, color=['yellow','green','black','red'])\n",
        "plt.xlabel(\"Part of Speech\")\n",
        "plt.ylabel(\"Count\")\n",
        "plt.title(\"Distribution of Parts of Speech in the Text\")\n",
        "plt.show()"
      ],
      "metadata": {
        "colab": {
          "base_uri": "https://localhost:8080/",
          "height": 487
        },
        "id": "cYU4Q1Y7TiJm",
        "outputId": "054efb71-68e9-449b-d17d-2612bdf9eac1"
      },
      "execution_count": null,
      "outputs": [
        {
          "output_type": "display_data",
          "data": {
            "text/plain": [
              "<Figure size 800x500 with 1 Axes>"
            ],
            "image/png": "[encoded data removed]"
          },
          "metadata": {}
        }
      ]
    },
    {
      "cell_type": "code",
      "source": [
        "import re"
      ],
      "metadata": {
        "id": "p-E3i3r9YQ12"
      },
      "execution_count": null,
      "outputs": []
    },
    {
      "cell_type": "code",
      "source": [
        "given=\"My phone number is 1234567890 and my email is test@domain.com. Visit https://example.com for more info!!. HELLO!!! This is SOOOOO exciting :)). Contact us at info@company.org or call +919876543210. Python's regex is very useful!!!  #Coding #Fun\""
      ],
      "metadata": {
        "id": "FTKaJxp0WY6Q"
      },
      "execution_count": null,
      "outputs": []
    },
    {
      "cell_type": "code",
      "source": [
        "regex='\\d+'\n",
        "match=re.findall(regex,given)\n",
        "print(match)"
      ],
      "metadata": {
        "colab": {
          "base_uri": "https://localhost:8080/"
        },
        "id": "YZBmfLDlYYWM",
        "outputId": "6e7aab6b-e199-4eb0-a74a-ccef59ed3ecc"
      },
      "execution_count": null,
      "outputs": [
        {
          "output_type": "stream",
          "name": "stdout",
          "text": [
            "['1234567890', '919876543210']\n"
          ]
        }
      ]
    },
    {
      "cell_type": "code",
      "source": [
        "cleaned_text=re.sub(r'\\d+','',given)\n",
        "cleaned_text=re.sub(r'\\W+@\\W+\\.\\W+','',cleaned_text)\n",
        "cleaned_text=re.sub(r'https?://\\W+', '', cleaned_text)\n",
        "cleaned_text=re.sub(r'[^a-zA-Z0-9\\s]', '', cleaned_text)\n",
        "\n",
        "print(\"Cleaned text:\", cleaned_text)"
      ],
      "metadata": {
        "colab": {
          "base_uri": "https://localhost:8080/"
        },
        "id": "kvn4rUqPaACF",
        "outputId": "2525e228-99b0-4e64-c94d-b00c600f6d34"
      },
      "execution_count": null,
      "outputs": [
        {
          "output_type": "stream",
          "name": "stdout",
          "text": [
            "Cleaned text: My phone number is  and my email is testdomaincom Visit httpsexamplecom for more info HELLO This is SOOOOO exciting  Contact us at infocompanyorg or call  Pythons regex is very useful  Coding Fun\n"
          ]
        }
      ]
    }
  ]
}